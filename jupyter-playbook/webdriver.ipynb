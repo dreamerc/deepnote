{
 "cells": [
  {
   "cell_type": "markdown",
   "id": "ccc07617",
   "metadata": {},
   "source": [
    "# This Jupyter playbook is for selenium webdriver\n",
    "- create a chromedriver without manual download\n",
    "- userscript usage in chromedriver and selenium\n",
    "- create a tab in chrome and load the page\n",
    "- set hours delay and play your task"
   ]
  },
  {
   "cell_type": "code",
   "execution_count": null,
   "id": "793e3e64",
   "metadata": {
    "ExecuteTime": {
     "end_time": "2022-05-20T07:29:58.625279Z",
     "start_time": "2022-05-20T07:29:57.154057Z"
    }
   },
   "outputs": [],
   "source": [
    "# Install ENV\n",
    "try:\n",
    "    from webdriver_manager.chrome import ChromeDriverManager\n",
    "except:\n",
    "    !pip3 install webdriver-manager\n",
    "    from webdriver_manager.chrome import ChromeDriverManager\n",
    "\n",
    "from selenium import webdriver\n",
    "from selenium.webdriver.common.by import By\n",
    "from selenium.webdriver.chrome.service import Service\n",
    "\n",
    "driver = webdriver.Chrome(service=Service(ChromeDriverManager().install()))\n",
    "t_press = False"
   ]
  },
  {
   "cell_type": "code",
   "execution_count": null,
   "id": "c3ce7d72",
   "metadata": {
    "ExecuteTime": {
     "end_time": "2022-05-20T07:30:16.845854Z",
     "start_time": "2022-05-20T07:30:09.760056Z"
    }
   },
   "outputs": [],
   "source": [
    "#【4K】台東多良車站即時影像 Taitung Duoliang Station Live Camera\n",
    "#driver.get(\"https://www.youtube.com/watch?v=mTGS9p1Ijdc\")\n",
    "driver.get(\"https://youtube.com/watch?v=UCG1aXVO8H8\")\n",
    "\n",
    "# JS set Dark Mode\n",
    "# document.getElementsByTagName('html')[0].setAttribute('dark',true);\n",
    "driver.execute_script(\"document.getElementsByTagName('html')[0].setAttribute('dark',true);\")\n",
    "\n",
    "\n",
    "#send key 't' to resize\n",
    "if t_press is not True :\n",
    "    import time\n",
    "    time.sleep(5)\n",
    "    actions = webdriver.ActionChains(driver)\n",
    "    actions.send_keys('t').perform()\n",
    "    t_press = True"
   ]
  },
  {
   "cell_type": "code",
   "execution_count": null,
   "id": "d83fe325",
   "metadata": {
    "ExecuteTime": {
     "end_time": "2022-05-19T03:21:48.991093Z",
     "start_time": "2022-05-19T03:21:48.747859Z"
    }
   },
   "outputs": [],
   "source": [
    "#open a tab and load page\n",
    "driver.execute_script(\"window.open()\")\n",
    "driver.switch_to.window(driver.window_handles[1])\n",
    "\n",
    "#公共電視 13頻道 網路直播 PTS Live\n",
    "url = \"https://www.youtube.com/watch?v=4Uc00FPs27M\"\n",
    "driver.get(url)\n",
    "driver.execute_script(\"document.getElementsByTagName('html')[0].setAttribute('dark',true);\")"
   ]
  },
  {
   "cell_type": "code",
   "execution_count": null,
   "id": "fb5e5349",
   "metadata": {
    "ExecuteTime": {
     "end_time": "2022-05-19T03:23:16.601324Z",
     "start_time": "2022-05-19T03:23:16.449202Z"
    }
   },
   "outputs": [],
   "source": [
    "#close and switch back\n",
    "driver.switch_to.window(driver.window_handles[1])\n",
    "driver.close()\n",
    "driver.switch_to.window(driver.window_handles[0])"
   ]
  },
  {
   "cell_type": "code",
   "execution_count": null,
   "id": "888c33a7",
   "metadata": {
    "ExecuteTime": {
     "end_time": "2022-05-20T05:18:31.313018Z",
     "start_time": "2022-05-20T01:18:28.574457Z"
    }
   },
   "outputs": [],
   "source": [
    "#task example\n",
    "import time\n",
    "time.sleep(2.5*60*60)\n",
    "driver.execute_script(\"window.open()\")\n",
    "driver.switch_to.window(driver.window_handles[1])\n",
    "#公共電視 13頻道 網路直播 PTS Live\n",
    "url = \"https://www.youtube.com/watch?v=4Uc00FPs27M\"\n",
    "driver.get(url)\n",
    "driver.execute_script(\"document.getElementsByTagName('html')[0].setAttribute('dark',true);\")\n",
    "time.sleep(90*60)\n",
    "driver.switch_to.window(driver.window_handles[1])\n",
    "driver.close()\n",
    "driver.switch_to.window(driver.window_handles[0])"
   ]
  },
  {
   "cell_type": "code",
   "execution_count": null,
   "id": "e3ade36d",
   "metadata": {
    "ExecuteTime": {
     "end_time": "2022-05-18T23:33:41.711318Z",
     "start_time": "2022-05-18T23:33:41.613714Z"
    }
   },
   "outputs": [],
   "source": [
    "#quit\n",
    "driver.quit()"
   ]
  }
 ],
 "metadata": {
  "gist": {
   "data": {
    "description": "webdriver.ipynb",
    "public": false
   },
   "id": ""
  },
  "kernelspec": {
   "display_name": "Python 3 (ipykernel)",
   "language": "python",
   "name": "python3"
  },
  "language_info": {
   "codemirror_mode": {
    "name": "ipython",
    "version": 3
   },
   "file_extension": ".py",
   "mimetype": "text/x-python",
   "name": "python",
   "nbconvert_exporter": "python",
   "pygments_lexer": "ipython3",
   "version": "3.9.7"
  }
 },
 "nbformat": 4,
 "nbformat_minor": 5
}
